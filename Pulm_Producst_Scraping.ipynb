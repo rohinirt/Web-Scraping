{
 "cells": [
  {
   "cell_type": "code",
   "execution_count": 1,
   "id": "52863896-f87f-400e-9177-cb1fa993ee44",
   "metadata": {},
   "outputs": [],
   "source": [
    "import requests\n",
    "from bs4 import BeautifulSoup\n",
    "import pandas as pd"
   ]
  },
  {
   "cell_type": "code",
   "execution_count": 2,
   "id": "93d031bc-1a50-4b8d-8471-a45feac2aed1",
   "metadata": {},
   "outputs": [],
   "source": [
    "headers = {\n",
    "    \"User-Agent\": \"Mozilla/5.0 (Windows NT 10.0; Win64; x64) AppleWebKit/537.36 (KHTML, like Gecko) Chrome/131.0.0.0 Safari/537.36\",\n",
    "    \"Accept-Language\": \"en-US,en;q=0.9\",\n",
    "    \"Connection\": \"keep-alive\",\n",
    "    \"Referer\": \"https://www.amazon.in/\",\n",
    "    \"Accept-Encoding\": \"gzip, deflate, br\",\n",
    "    \"Host\": \"www.amazon.in\",\n",
    "}"
   ]
  },
  {
   "cell_type": "code",
   "execution_count": 3,
   "id": "059e236a-337b-48ab-b233-7c2deac204dd",
   "metadata": {},
   "outputs": [],
   "source": [
    "url = \"https://www.amazon.in/s?k=plum+goodness&crid=3PWA3DMD2PCF9&sprefix=plum+goodness%2Caps%2C223&ref=nb_sb_noss_1\"\n",
    "# Send a GET request\n",
    "response = requests.get(url, headers=headers)"
   ]
  },
  {
   "cell_type": "code",
   "execution_count": 4,
   "id": "8bbc845d-7205-4788-ba0e-0aeaa28b71ac",
   "metadata": {},
   "outputs": [
    {
     "data": {
      "text/plain": [
       "<Response [200]>"
      ]
     },
     "execution_count": 4,
     "metadata": {},
     "output_type": "execute_result"
    }
   ],
   "source": [
    "response"
   ]
  },
  {
   "cell_type": "code",
   "execution_count": 19,
   "id": "8827cf66-b557-4a3f-b266-b9be91a7e04f",
   "metadata": {},
   "outputs": [],
   "source": [
    "def scraper():\n",
    "    soup = BeautifulSoup(response.content,\"html.parser\")\n",
    "    container = soup.find(\"div\",class_ = \"s-main-slot s-result-list s-search-results sg-row\")\n",
    "    products = []\n",
    "    items = container.find_all(\"div\", {\"data-component-type\": \"s-search-result\"},recursive = True)\n",
    "    for item in items:\n",
    "\n",
    "        # Check if item is sponsored\n",
    "        is_sponsored = item.find(\"span\", class_=\"s-label-popover-default\")\n",
    "        if is_sponsored:\n",
    "            continue  # Skip sponsored items\n",
    "\n",
    "        # Extract title\n",
    "        title = item.find(\"h2\", class_=\"a-size-base-plus a-spacing-none a-color-base a-text-normal\")\n",
    "        title = title.text.strip() if title else None\n",
    "\n",
    "        discount = None\n",
    "        discount_span = item.find(\"span\", string=lambda s: s and \"off\" in s)\n",
    "        if discount_span:\n",
    "            discount = discount_span.text.strip()\n",
    "        else:\n",
    "            discount = \"No Discount\"\n",
    "\n",
    "        # Extract price\n",
    "        price = item.find(\"span\", class_=\"a-price-whole\")\n",
    "        price = price.text.strip() if price else None\n",
    "\n",
    "        rating = None\n",
    "        rating_icon = item.find(\"i\", class_=lambda value: value and value.startswith(\"a-icon a-icon-star-small\"))\n",
    "        if rating_icon:\n",
    "            rating = rating_icon.text.strip()\n",
    "\n",
    "        # Extract rating\n",
    "        rating_count = item.find(\"span\", class_=\"a-size-base s-underline-text\")\n",
    "        rating_count = rating_count.text.strip() if rating else None\n",
    "\n",
    "        # Extract image URL\n",
    "        image_tag = item.find(\"img\", class_=\"s-image\")\n",
    "        image_url = image_tag[\"src\"] if image_tag else None\n",
    "\n",
    "        # Extract detailed page link\n",
    "        link_tag = item.find(\"a\", class_=\"a-link-normal s-line-clamp-3 s-link-style a-text-normal\")\n",
    "        detail_page_link = \"https://www.amazon.in\" + link_tag[\"href\"] if link_tag else \"Not Available\n",
    "        \n",
    "\n",
    "\n",
    "        # Append to the product list\n",
    "        if title:\n",
    "            products.append({\n",
    "                \"Title\": title,\n",
    "                \"Price\": price,\n",
    "                \"Rating\": rating,\n",
    "                \"Rating_Count\": rating_count,\n",
    "                \"Discount\": discount,\n",
    "                \"Image_URL\": image_url,\n",
    "                \"Page_Link\": detail_page_link\n",
    "            \n",
    "            })\n",
    "\n",
    "    return products"
   ]
  },
  {
   "cell_type": "code",
   "execution_count": 20,
   "id": "ffd69b5d-213a-49e6-917c-9cc0dec92b4d",
   "metadata": {},
   "outputs": [
    {
     "data": {
      "text/plain": [
       "array(['Not Available',\n",
       "       'All, Combination, Sensitive, Oily Acne Prone, Dry, Normal',\n",
       "       'Plum', 'drop', 'All', 'Black', 'Repairs Split Ends, Smoothening',\n",
       "       'Rania'], dtype=object)"
      ]
     },
     "execution_count": 20,
     "metadata": {},
     "output_type": "execute_result"
    }
   ],
   "source": [
    "data = scraper()\n",
    "df = pd.DataFrame(data)"
   ]
  },
  {
   "cell_type": "code",
   "execution_count": 11,
   "id": "1416a698-12be-4563-ad6f-d9906e338f19",
   "metadata": {},
   "outputs": [],
   "source": [
    "# Call the scraper function\n",
    "df = df[~df['Title'].duplicated()]\n",
    "df.sort_values(by = 'Price', ascending = True).reset_index()\n",
    "df.to_csv(r\"D:\\Rohini Personal\\Data Analysis\\Projects Datasets\\TopN Analytics Project\\Web Scraping\\plum_goodness_amazon.csv\", index=False)"
   ]
  },
  {
   "cell_type": "code",
   "execution_count": 16,
   "id": "a346957c-e2a1-4346-9985-c4a88dbc76f3",
   "metadata": {},
   "outputs": [
    {
     "name": "stdout",
     "output_type": "stream",
     "text": [
      "Failed to retrieve https://www.amazon.in/Plum-Niacinamide-Blemish-Free-Fragrance-Free-Transparent/dp/B09PV4379W/ref=sr_1_6?crid=3PWA3DMD2PCF9&dib=eyJ2IjoiMSJ9.7B7E3BUtEhP9WsZLiWCxVq8U2uQkeC1U7GAjRZDpzZtFqoeUdsiKAFh_ZFF0J7Vu7W-jVr9PtyTpFPmdNx_kXpe6pcU_a8wRMvLzlokImlrmThZATVc14VAA6Tm_A6q9uYmj-WHKAtYbE0cEFs_66DP6PGueQtzUuYYE18JvVLxewL0EDcrSMcP0jW9hWYM_kK3mzWkh897-GsHbFMYU4h1Bj191Y_tvdB01fY_K5fAUJB30sQE1P27aTRfWZ2Cop9jJ-yBTFhH7JGJxVm1ofrIYhlcdHpgcrVrRzrPtZJE8AuGAOehlFBkruwNh5C-iDfR23jsTYRy3OpbLtxtjEVv5c-VrbZa-vZUlWPCnuPvOOZHiU7csLQvBBUWqnhefi8hCic9v_QI-NMhiycsYHiYZjLQ0fCX-hha0elbUbtZDuoQoYGo5kNPmC4vMN3YX.Vlza3iEAzaMM0N5DojyBYd2w2kTz5gK1QpDlHLX1ZDU&dib_tag=se&keywords=plum%2Bgoodness&nsdOptOutParam=true&qid=1738156894&sprefix=plum%2Bgoodness%2Caps%2C223&sr=8-6&th=1. Status code: 500\n",
      "Volume for the product: Not Available\n"
     ]
    }
   ],
   "source": [
    "import requests\n",
    "from bs4 import BeautifulSoup\n",
    "\n",
    "def get_product_volume(url):\n",
    "    try:\n",
    "        response = requests.get(url)\n",
    "        if response.status_code == 200:\n",
    "            print(f\"Page found: {url}\")\n",
    "            detailed_soup = BeautifulSoup(response.content, \"html.parser\")\n",
    "\n",
    "            # Try using a more specific selector for volume\n",
    "            volume_tag = detailed_soup.find(\"span\", class_=\"a-size-base po-break-word\")\n",
    "            \n",
    "            # Sometimes the volume might be inside a different tag, so check if it's None\n",
    "            if volume_tag:\n",
    "                volume = volume_tag.text.strip()\n",
    "                print(f\"Volume Found: {volume}\")\n",
    "                return volume\n",
    "            else:\n",
    "                print(\"Volume not found in this page.\")\n",
    "                return \"Not Available\"\n",
    "        else:\n",
    "            print(f\"Failed to retrieve {url}. Status code: {response.status_code}\")\n",
    "            return \"Not Available\"\n",
    "    except requests.exceptions.RequestException as e:\n",
    "        print(f\"Error occurred while fetching {url}: {str(e)}\")\n",
    "        return \"Not Available\"\n",
    "\n",
    "# Example usage\n",
    "url = \"https://www.amazon.in/Plum-Niacinamide-Blemish-Free-Fragrance-Free-Transparent/dp/B09PV4379W/ref=sr_1_6?crid=3PWA3DMD2PCF9&dib=eyJ2IjoiMSJ9.7B7E3BUtEhP9WsZLiWCxVq8U2uQkeC1U7GAjRZDpzZtFqoeUdsiKAFh_ZFF0J7Vu7W-jVr9PtyTpFPmdNx_kXpe6pcU_a8wRMvLzlokImlrmThZATVc14VAA6Tm_A6q9uYmj-WHKAtYbE0cEFs_66DP6PGueQtzUuYYE18JvVLxewL0EDcrSMcP0jW9hWYM_kK3mzWkh897-GsHbFMYU4h1Bj191Y_tvdB01fY_K5fAUJB30sQE1P27aTRfWZ2Cop9jJ-yBTFhH7JGJxVm1ofrIYhlcdHpgcrVrRzrPtZJE8AuGAOehlFBkruwNh5C-iDfR23jsTYRy3OpbLtxtjEVv5c-VrbZa-vZUlWPCnuPvOOZHiU7csLQvBBUWqnhefi8hCic9v_QI-NMhiycsYHiYZjLQ0fCX-hha0elbUbtZDuoQoYGo5kNPmC4vMN3YX.Vlza3iEAzaMM0N5DojyBYd2w2kTz5gK1QpDlHLX1ZDU&dib_tag=se&keywords=plum%2Bgoodness&nsdOptOutParam=true&qid=1738156894&sprefix=plum%2Bgoodness%2Caps%2C223&sr=8-6&th=1\"\n",
    "volume = get_product_volume(url)\n",
    "print(f\"Volume for the product: {volume}\")"
   ]
  },
  {
   "cell_type": "code",
   "execution_count": null,
   "id": "e7f36b5a-4937-48d8-ad9d-3e72af06390f",
   "metadata": {},
   "outputs": [],
   "source": []
  }
 ],
 "metadata": {
  "kernelspec": {
   "display_name": "Python 3 (ipykernel)",
   "language": "python",
   "name": "python3"
  },
  "language_info": {
   "codemirror_mode": {
    "name": "ipython",
    "version": 3
   },
   "file_extension": ".py",
   "mimetype": "text/x-python",
   "name": "python",
   "nbconvert_exporter": "python",
   "pygments_lexer": "ipython3",
   "version": "3.12.4"
  }
 },
 "nbformat": 4,
 "nbformat_minor": 5
}
